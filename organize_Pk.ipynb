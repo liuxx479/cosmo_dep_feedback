{
 "cells": [
  {
   "cell_type": "code",
   "execution_count": 1,
   "id": "87a23b86-532d-43b1-9ad5-472a4d4efe2e",
   "metadata": {},
   "outputs": [],
   "source": [
    "import numpy as np\n",
    "from scipy import *\n",
    "from pylab import *\n",
    "import os\n",
    "import pickle\n",
    "\n",
    "%matplotlib inline"
   ]
  },
  {
   "cell_type": "code",
   "execution_count": 2,
   "id": "4a9983e6-591a-43ea-b589-80c8f61e9b39",
   "metadata": {},
   "outputs": [],
   "source": [
    "# folder_Pk = '/global/cscratch1/sd/jialiu/CAMELS/Pk/' ### original, unorganized Pk\n",
    "folder_Pk = '/pscratch/sd/j/jialiu/CAMELS/Pk/'\n",
    "home = '/global/homes/j/jialiu/cosmo_dep_feedback/'"
   ]
  },
  {
   "cell_type": "code",
   "execution_count": 3,
   "id": "1edba550-4c6e-4e2d-8bcb-9917d3b330dc",
   "metadata": {},
   "outputs": [],
   "source": [
    "### fixed parameters: \n",
    "Omega_b = 0.049\n",
    "h = 0.6711\n",
    "ns = 0.9624\n",
    "w = -1\n",
    "mnu = 0.0 #eV\n",
    "Omega_k = 0.0"
   ]
  },
  {
   "cell_type": "code",
   "execution_count": 8,
   "id": "536bf3e2-bf1f-40f9-916e-8403c625b547",
   "metadata": {},
   "outputs": [
    {
     "name": "stdout",
     "output_type": "stream",
     "text": [
      "118\n"
     ]
    }
   ],
   "source": [
    "######### get k, which is the same for all sims and all redshift, I think..\n",
    "# k=np.loadtxt(home+'CAMELS/Pk/IllustrisTNG/LH_0/Pk_m_z=0.00.txt').T[0]\n",
    "# np.save(home+'Pk/IllustrisTNG_k_m_z=0.00.npy', k)\n",
    "\n",
    "kmax=30\n",
    "k=np.load(home+'Pk/IllustrisTNG_k_m_z=0.00.npy')\n",
    "Nk=sum(k<kmax)\n",
    "kcut=k[:Nk]\n",
    "print (Nk)\n",
    "labels=[r'$\\Omega_m$', r'$\\sigma_8$', '$log_{10}(A_1)$', '$log_{10}(A_2)$', '$log_{10}(A_3)$', '$log_{10}(A_4)$']\n",
    "\n",
    "### organize the files\n",
    "def organize_Pk (iz, isim, iPk='Pk_m', iset='1P'):\n",
    "    \n",
    "    # if isim == 'Astrid':\n",
    "    #     ifn_param=home+'params/params_1P.txt'\n",
    "    # else:\n",
    "    ifn_param=home+'params/CosmoAstroSeed_%s.txt'%(isim)\n",
    "    sim_name = np.loadtxt(ifn_param, usecols=(0), dtype='U') ## the simulation names, e.g. \"1P_1_n5\"\n",
    "    sim_params = np.loadtxt(ifn_param, usecols=range(1,7)) ## the actual parameters, corresponding to the sim names above\n",
    "    #### change all the baryon parameters to log\n",
    "    sim_params = concatenate([sim_params[:,:2], log10(sim_params[:,2:])],axis=1)\n",
    "    idx = where(np.char.find(sim_name, iset)!=-1)\n",
    "    sim_name = sim_name[idx]\n",
    "    sim_params = sim_params[idx]\n",
    "    \n",
    "    #### load all the Pk in next line, takes long time\n",
    "    Pk_arr = array([np.loadtxt(folder_Pk+'%s/%s/%s/%s_z=%.2f.txt'%(isim, iLH[:2], iLH, iPk, iz))[:Nk] for iLH in sim_name])\n",
    "    if iPk=='Pk_m': ## no Pk_c/b/g for _DM runs, so we only process _DM once here, when we process Pk_m\n",
    "        Pk_DM_arr = array([np.loadtxt(folder_Pk+'%s_DM/%s/%s/%s_z=%.2f.txt'%(isim, iLH[:2], iLH, iPk, iz))[:Nk] for iLH in sim_name])\n",
    "    \n",
    "    # for iset in ('1P', ): ##('LH', '1P', 'CV'): ##\n",
    "    idx = where(np.char.find(sim_name, iset)!=-1)\n",
    "    ifn=home+'Pk/%s_%s_%s_z=%.2f.npy'%(isim, iPk, iset, iz)\n",
    "    data_arr = concatenate([sim_params[idx], Pk_arr[idx][:,:,1]],axis=1) ## include params and Pk\n",
    "    save(ifn, data_arr)\n",
    "    if iPk=='Pk_m': \n",
    "        ifn_DM=home+'Pk/%s_%s_%s_z=%.2f_DM.npy'%(isim, iPk, iset, iz)\n",
    "        data_DM_arr = concatenate([sim_params[idx], Pk_DM_arr[idx][:,:,1]],axis=1) ## include params and Pk\n",
    "        save(ifn_DM, data_DM_arr)\n",
    "\n",
    "    print ('%s, %s set has %i models, data shape %s'%(isim, iset, len(idx), data_arr.shape))"
   ]
  },
  {
   "cell_type": "code",
   "execution_count": 12,
   "id": "c6760fa8-0edd-4aec-be8b-401809db03bd",
   "metadata": {},
   "outputs": [
    {
     "name": "stdout",
     "output_type": "stream",
     "text": [
      "Astrid 3.0\n",
      "Astrid, 1P set has 1 models, data shape (66, 124)\n",
      "Astrid, 1P set has 1 models, data shape (66, 124)\n",
      "Astrid, 1P set has 1 models, data shape (66, 124)\n"
     ]
    }
   ],
   "source": [
    "######## all CAMELS sims\n",
    "sim_arr = ['Astrid',] ##'IllustrisTNG',  'SIMBA']  #,  ## seems like Astrid files are there, but naming system is different\n",
    "\n",
    "######### the redshift we're interested in\n",
    "# zarr=[0.00, 1.05, 2.00, 3.00] #, 0.05, 0.10, 0.15] #\n",
    "zarr=[3.00,]\n",
    "####### organize the files, take long #########\n",
    "for isim in sim_arr:\n",
    "    for iz in zarr:\n",
    "        print (isim, iz)\n",
    "        organize_Pk (iz, isim, iPk='Pk_m')\n",
    "        organize_Pk (iz, isim, iPk='Pk_g')\n",
    "        organize_Pk (iz, isim, iPk='Pk_c')\n"
   ]
  },
  {
   "cell_type": "code",
   "execution_count": 14,
   "id": "f84601a4-9419-48ee-a471-91a614a98327",
   "metadata": {},
   "outputs": [
    {
     "data": {
      "image/png": "[encoded data removed]",
      "text/plain": [
       "<Figure size 1152x216 with 6 Axes>"
      ]
     },
     "metadata": {
      "needs_background": "light"
     },
     "output_type": "display_data"
    }
   ],
   "source": [
    "########### validate the tests\n",
    "iPk = 'Pk_m'\n",
    "iz = 0\n",
    "iset = '1P' #LH\n",
    "isim = 'Astrid' #'IllustrisTNG'\n",
    "\n",
    "for isim in sim_arr:\n",
    "    ifn = home+'Pk/%s_%s_%s_z=%.2f.npy'%(isim, iPk, iset, iz)\n",
    "    ifn_DM=home+'Pk/%s_%s_%s_z=%.2f_DM.npy'%(isim, 'Pk_m', iset, iz)\n",
    "    Pk_arr = np.load(ifn)\n",
    "    Pk_DM_arr = np.load(ifn_DM)\n",
    "    Pk_arr.shape\n",
    "\n",
    "    params = Pk_arr[:, :6]\n",
    "    r = Pk_arr[:, 6:]/Pk_DM_arr[:, 6:]\n",
    "    rprox = mean(r[:, 5:20],axis=1)\n",
    "    # params.shape, r.shape, rprox.shape\n",
    "\n",
    "    f, ax=subplots(1,5, figsize=(16,3))\n",
    "\n",
    "    for i in range(5):\n",
    "        im=ax[i].scatter(params.T[i], params.T[i+1], c=rprox, label=isim, s=5)\n",
    "        ax[i].set_xlabel(labels[i], fontsize=14)\n",
    "        ax[i].set_ylabel(labels[i+1],fontsize=14)   \n",
    "        ax[i].legend()\n",
    "    cbar_ax = f.add_axes([0.93, 0.1, 0.01, 0.8])\n",
    "    f.colorbar(im, cax=cbar_ax)\n",
    "    f.subplots_adjust(wspace=0.45)\n",
    "    cbar_ax.set_ylabel(r'$P_k^{baryon}/P_k^{DMO}$',fontsize=14)\n",
    "    show()"
   ]
  },
  {
   "cell_type": "code",
   "execution_count": 15,
   "id": "a38338f3-e053-448b-b075-8f51b0648f20",
   "metadata": {},
   "outputs": [
    {
     "data": {
      "text/plain": [
       "array([1.6191547 , 1.87068667, 2.12329004, 2.37814498, 2.63048993,\n",
       "       2.87865316, 3.13114437, 3.38815958, 3.63874185, 3.88831591,\n",
       "       4.13905216, 4.39030578, 4.64217234, 4.89467867, 5.14726905])"
      ]
     },
     "execution_count": 15,
     "metadata": {},
     "output_type": "execute_result"
    }
   ],
   "source": [
    "k[5:20]"
   ]
  },
  {
   "cell_type": "code",
   "execution_count": null,
   "id": "6e44b080-edbf-4515-8512-861a2bd931b8",
   "metadata": {},
   "outputs": [],
   "source": []
  }
 ],
 "metadata": {
  "kernelspec": {
   "display_name": "NERSC Python",
   "language": "python",
   "name": "python3"
  },
  "language_info": {
   "codemirror_mode": {
    "name": "ipython",
    "version": 3
   },
   "file_extension": ".py",
   "mimetype": "text/x-python",
   "name": "python",
   "nbconvert_exporter": "python",
   "pygments_lexer": "ipython3",
   "version": "3.9.7"
  }
 },
 "nbformat": 4,
 "nbformat_minor": 5
}
