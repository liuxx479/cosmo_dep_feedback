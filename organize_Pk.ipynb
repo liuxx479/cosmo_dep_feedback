{
 "cells": [
  {
   "cell_type": "code",
   "execution_count": 1,
   "id": "87a23b86-532d-43b1-9ad5-472a4d4efe2e",
   "metadata": {},
   "outputs": [],
   "source": [
    "import numpy as np\n",
    "from scipy import *\n",
    "from pylab import *\n",
    "import os\n",
    "import pickle\n",
    "\n",
    "%matplotlib inline"
   ]
  },
  {
   "cell_type": "code",
   "execution_count": 2,
   "id": "4a9983e6-591a-43ea-b589-80c8f61e9b39",
   "metadata": {},
   "outputs": [],
   "source": [
    "folder_Pk = '/global/cscratch1/sd/jialiu/CAMELS/Pk/' ### original, unorganized Pk\n",
    "home = '/global/homes/j/jialiu/cosmo_dep_feedback/'\n",
    "\n",
    "###### the simulation we operate with\n",
    "isim = 'IllustrisTNG'"
   ]
  },
  {
   "cell_type": "code",
   "execution_count": 3,
   "id": "1edba550-4c6e-4e2d-8bcb-9917d3b330dc",
   "metadata": {},
   "outputs": [],
   "source": [
    "### fixed parameters: \n",
    "Omega_b = 0.049\n",
    "h = 0.6711\n",
    "ns = 0.9624\n",
    "w = -1\n",
    "mnu = 0.0 #eV\n",
    "Omega_k = 0.0"
   ]
  },
  {
   "cell_type": "code",
   "execution_count": 18,
   "id": "f84601a4-9419-48ee-a471-91a614a98327",
   "metadata": {},
   "outputs": [
    {
     "data": {
      "text/plain": [
       "(array(['LH_0', 'LH_1', 'LH_2', ..., 'CV_24', 'CV_25', 'CV_26'],\n",
       "       dtype='<U7'),\n",
       " array([[ 0.309     ,  0.979     ,  0.49308703,  0.04996963, -0.17489859,\n",
       "         -0.27423533],\n",
       "        [ 0.3026    ,  0.9394    ,  0.53402738,  0.59784541,  0.01414657,\n",
       "          0.06471998],\n",
       "        [ 0.4282    ,  0.753     , -0.15111534, -0.4268614 ,  0.2929026 ,\n",
       "         -0.20259395],\n",
       "        ...,\n",
       "        [ 0.3       ,  0.8       ,  0.        ,  0.        ,  0.        ,\n",
       "          0.        ],\n",
       "        [ 0.3       ,  0.8       ,  0.        ,  0.        ,  0.        ,\n",
       "          0.        ],\n",
       "        [ 0.3       ,  0.8       ,  0.        ,  0.        ,  0.        ,\n",
       "          0.        ]]))"
      ]
     },
     "execution_count": 18,
     "metadata": {},
     "output_type": "execute_result"
    }
   ],
   "source": [
    "#### Omega_m sigma_8 A1 A2 A3 A4\n",
    "sim_name = np.loadtxt(home+'params/CosmoAstroSeed_%s.txt'%(isim), usecols=(0), dtype='U')\n",
    "sim_params = np.loadtxt(home+'params/CosmoAstroSeed_%s.txt'%(isim), usecols=range(1,7))\n",
    "\n",
    "#### change all the baryon parameters to log\n",
    "labels=['Omega_m', 'sigma_8', 'log10(A1)', 'log10(A2)', 'log10(A3)', 'log10(A4)']\n",
    "sim_params = concatenate([sim_params[:,:2], log10(sim_params[:,2:])],axis=1)\n",
    "\n",
    "sim_name, sim_params"
   ]
  },
  {
   "cell_type": "code",
   "execution_count": 17,
   "id": "27b0f4cf-bb56-41f4-b873-dbf88cd7039e",
   "metadata": {},
   "outputs": [],
   "source": [
    "idx_LH = where(np.char.find(sim_name, 'LH')!=-1)\n",
    "idx_1P = where(np.char.find(sim_name, '1P')!=-1)\n",
    "idx_CV = where(np.char.find(sim_name, 'CV')!=-1)"
   ]
  },
  {
   "cell_type": "code",
   "execution_count": null,
   "id": "63a7261f-8d82-4285-a632-de84f25539ae",
   "metadata": {},
   "outputs": [],
   "source": [
    "lhc_params = sim_params[idx_LH]\n",
    "f, ax=subplots(1,5, figsize=(14,3))\n",
    "\n",
    "for i in range(5):\n",
    "    ax[i].scatter(lhc_params.T[i], lhc_params.T[i+1], color='b', label=isim,s=5)\n",
    "    ax[i].set_xlabel(labels[i])\n",
    "    ax[i].set_ylabel(labels[i+1])   \n",
    "    ax[i].legend()\n",
    "plt.tight_layout()\n",
    "show()"
   ]
  },
  {
   "cell_type": "code",
   "execution_count": null,
   "id": "536bf3e2-bf1f-40f9-916e-8403c625b547",
   "metadata": {},
   "outputs": [],
   "source": []
  }
 ],
 "metadata": {
  "kernelspec": {
   "display_name": "anaconda-jl",
   "language": "python",
   "name": "anaconda-jl"
  },
  "language_info": {
   "codemirror_mode": {
    "name": "ipython",
    "version": 3
   },
   "file_extension": ".py",
   "mimetype": "text/x-python",
   "name": "python",
   "nbconvert_exporter": "python",
   "pygments_lexer": "ipython3",
   "version": "3.7.3"
  }
 },
 "nbformat": 4,
 "nbformat_minor": 5
}
