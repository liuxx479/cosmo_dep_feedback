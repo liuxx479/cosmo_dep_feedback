{
 "cells": [
  {
   "cell_type": "code",
   "execution_count": 58,
   "id": "8aa6b6ab-bda4-4f52-a15d-7f5670a19f21",
   "metadata": {
    "tags": []
   },
   "outputs": [],
   "source": [
    "# !pip install halomod\n",
    "import numpy as np\n",
    "from scipy import *\n",
    "from pylab import *\n",
    "import os\n",
    "import pickle\n",
    "import glob \n",
    "from scipy import special, optimize, integrate, stats\n",
    "import warnings\n",
    "warnings.filterwarnings(\"ignore\")\n",
    "\n",
    "%matplotlib inline"
   ]
  },
  {
   "cell_type": "code",
   "execution_count": 4,
   "id": "528639bf-3e32-4be3-be94-35f14a3e81c1",
   "metadata": {
    "tags": []
   },
   "outputs": [],
   "source": [
    "### fixed parameters: \n",
    "Omega_b = 0.049\n",
    "h = 0.6711\n",
    "ns = 0.9624\n",
    "w = -1\n",
    "mnu = 0.0 #eV\n",
    "Omega_k = 0.0"
   ]
  },
  {
   "cell_type": "code",
   "execution_count": 5,
   "id": "17fc9b84-b6ec-4353-894d-80d8b1dd0449",
   "metadata": {
    "tags": []
   },
   "outputs": [],
   "source": [
    "folder_HMF = '/pscratch/sd/j/jialiu/CAMELS/Rockstar/' ### original, unorganized halo catalogue from rockstar\n",
    "home = '/global/homes/j/jialiu/cosmo_dep_feedback/'\n",
    "folder_plot = home+'plots/'\n",
    "\n",
    "cmap = matplotlib.cm.get_cmap('Spectral') #('viridis')#\n",
    "labels=[r'$\\Omega_m$', r'$\\sigma_8$', r'$\\log_{10}(A_{\\rm SN1})$', r'$\\log_{10}(A_{\\rm AGN1})$', r'$\\log_{10}(A_{\\rm SN2})$', r'$\\log_{10}(A_{\\rm AGN2})$']\n",
    "\n",
    "mbins = linspace(8,16, 17)\n",
    "dmbin = mbins[1]-mbins[0]\n",
    "mbins_center = mbins[:-1]+0.5*dmbin\n"
   ]
  },
  {
   "cell_type": "code",
   "execution_count": 2,
   "id": "4932abe4-ae12-408f-9ccf-9a06c7c1f4eb",
   "metadata": {
    "tags": []
   },
   "outputs": [],
   "source": [
    "### sept 8, 2023 attempt\n",
    "### step 1: test 1 halo term, using halo catalogue's Mvir, concentration, if measured Pk=Pk_halomod\n",
    "### step 2: test halo model using binned Mvir and M-c relation\n",
    "### step 3: either using step 1 or step 2 results, change Mvir and Cvir, reproduce Pk suppression"
   ]
  },
  {
   "cell_type": "code",
   "execution_count": 8,
   "id": "8322f28e-e86e-43ea-bb5b-671a8b613883",
   "metadata": {
    "tags": []
   },
   "outputs": [
    {
     "data": {
      "text/plain": [
       "'/pscratch/sd/j/jialiu/CAMELS/Rockstar/IllustrisTNG_DM/1P/1P_1_0/hlists/hlist_1.00000.list'"
      ]
     },
     "execution_count": 8,
     "metadata": {},
     "output_type": "execute_result"
    }
   ],
   "source": [
    "def cat_fn_gen (isim, iLH, ia, DM=''):\n",
    "    rock_folder = folder_HMF+'%s%s/%s/%s/hlists/'%(isim, DM, iLH[:2], iLH)\n",
    "    file_list = glob.glob(rock_folder+'hlist*')\n",
    "    a_arr = np.array([float(x[-12:-5]) for x in file_list])\n",
    "    diff_a = abs(ia-a_arr)\n",
    "    a_match = a_arr[where(diff_a==amin(diff_a))]\n",
    "    return rock_folder+'hlist_%.5f.list'%(a_match)\n",
    "\n",
    "def cat_DM_fn_gen (isim, iLH, ia):\n",
    "    return cat_fn_gen (isim, iLH, ia, DM='_DM')\n",
    "\n",
    "cat_fn_gen ('IllustrisTNG', '1P_1_0', 0.99)\n",
    "cat_DM_fn_gen ('IllustrisTNG', '1P_1_0', 0.99)"
   ]
  },
  {
   "cell_type": "code",
   "execution_count": 9,
   "id": "dbed2900-f7b5-423e-b2fa-18b40b7ec18c",
   "metadata": {
    "tags": []
   },
   "outputs": [],
   "source": [
    "# test_fn = '/global/homes/j/jialiu/cosmo_dep_feedback/CAMELS/Rockstar/Astrid/1P/1P_0/hlists/hlist_1.00000.list'\n",
    "# hmf = np.loadtxt(test_fn, usecols=[1, 10, 11, 12, 17, 18, 19, 26, 47])\n",
    "# # id(1), Mvir(10), Rvir(11), rs(12), x(17) y(18) z(19), Spin(26),c_to_a(47)"
   ]
  },
  {
   "cell_type": "code",
   "execution_count": 12,
   "id": "6a5e7b23-21f1-44ee-af46-789c7890965f",
   "metadata": {
    "tags": []
   },
   "outputs": [],
   "source": [
    "isim, iLH, iz = 'IllustrisTNG', '1P_1_0', 0\n",
    "ia = 1/(1+iz)\n",
    "cat_fn_1 = cat_fn_gen (isim, iLH, ia)\n",
    "cat_fn_2 = cat_DM_fn_gen (isim, iLH, ia)\n",
    "\n",
    "cat1_mvir = log10(np.loadtxt(cat_fn_1, usecols=[10]))\n",
    "cat2_mvir = log10(np.loadtxt(cat_fn_2, usecols=[10]))\n",
    "\n",
    "cat1_rvir = np.loadtxt(cat_fn_1, usecols=[11])\n",
    "cat1_rs = np.loadtxt(cat_fn_1, usecols=[12])\n",
    "cat1_cvir = cat1_rvir/cat1_rs\n",
    "\n",
    "\n",
    "cat2_rvir = np.loadtxt(cat_fn_2, usecols=[11])\n",
    "cat2_rs = np.loadtxt(cat_fn_2, usecols=[12])\n",
    "cat2_cvir = cat2_rvir/cat2_rs"
   ]
  },
  {
   "cell_type": "code",
   "execution_count": 14,
   "id": "338e6a59-f20c-4b6a-aec4-1abd4c386356",
   "metadata": {
    "tags": []
   },
   "outputs": [
    {
     "data": {
      "text/plain": [
       "array([ 5.79701984,  5.69557617,  5.81094061, ...,  7.34957369,\n",
       "       14.60493827,  5.42752101])"
      ]
     },
     "execution_count": 14,
     "metadata": {},
     "output_type": "execute_result"
    }
   ],
   "source": [
    "cat1_cvir"
   ]
  },
  {
   "cell_type": "code",
   "execution_count": null,
   "id": "502b6f35-5a85-4db6-b82d-ffcb41b9ea2d",
   "metadata": {},
   "outputs": [],
   "source": []
  },
  {
   "cell_type": "code",
   "execution_count": null,
   "id": "adaaca4e-d2ba-412e-91f6-dc8a4503a761",
   "metadata": {},
   "outputs": [],
   "source": [
    "########### below are halomod  ##############"
   ]
  },
  {
   "cell_type": "code",
   "execution_count": 25,
   "id": "6baeae91-e4f6-4b15-9855-1ccc3b6e922b",
   "metadata": {
    "tags": []
   },
   "outputs": [
    {
     "name": "stdout",
     "output_type": "stream",
     "text": [
      "Using halomod v2.1.0\n"
     ]
    }
   ],
   "source": [
    "import halomod\n",
    "from halomod import HaloModel, DMHaloModel\n",
    "##The :class:`HaloModel` class is provided as an alias of :class:`TracerHaloModel`.\n",
    "# from halomod.cross_correlations import CrossCorrelations,_HODCross, ConstantCorr\n",
    "from halomod import TracerHaloModel\n",
    "from halomod.concentration import CMRelation\n",
    "from hmf.halos.mass_definitions import SOCritical, FOF\n",
    "print(f\"Using halomod v{halomod.__version__}\")"
   ]
  },
  {
   "cell_type": "code",
   "execution_count": 42,
   "id": "56c03946-f410-4258-9d63-168c646efca0",
   "metadata": {
    "tags": []
   },
   "outputs": [],
   "source": [
    "# hm = HaloModel(halo_profile_model=\"NFW\")\n",
    "hm = DMHaloModel(halo_profile_model=\"NFW\") \n",
    "hm_NFWInf = DMHaloModel(halo_profile_model=\"NFWInf\") \n",
    "## check the fileds https://github.com/halomod/halomod/blob/dev/src/halomod/halo_model.py"
   ]
  },
  {
   "cell_type": "code",
   "execution_count": 44,
   "id": "ba187ae0-47d3-46b1-a817-4c6807d7b136",
   "metadata": {
    "tags": []
   },
   "outputs": [
    {
     "data": {
      "image/png": "[encoded data removed]",
      "text/plain": [
       "<Figure size 432x288 with 1 Axes>"
      ]
     },
     "metadata": {
      "needs_background": "light"
     },
     "output_type": "display_data"
    }
   ],
   "source": [
    "# plt.plot(hm.k, hm.nonlinear_power, label='Halofit')\n",
    "plt.plot(hm.k_hm, hm.power_auto_matter, label='power_auto_matter')\n",
    "plt.plot(hm.k_hm, hm.power_1h_auto_matter, label='power_1h_auto_matter')\n",
    "plt.plot(hm_NFWInf.k_hm, hm_NFWInf.power_1h_auto_matter, label='power_1h_auto_matter_NFWInf')\n",
    "plt.plot(hm.k_hm, hm.power_2h_auto_matter, label='power_2h_auto_matter')\n",
    "\n",
    "### \"This method is deprecated in favour of power_2h_auto_matter\"\n",
    "# plt.plot(hm.k_hm, hm.power_mm, label='power_mm')\n",
    "# plt.plot(hm.k_hm, hm.power_mm_1h, label='power_mm_1h')\n",
    "# plt.plot(hm.k_hm, hm.power_mm_2h, label='power_mm_2h')\n",
    "\n",
    "plt.xscale('log')\n",
    "plt.yscale('log')\n",
    "\n",
    "plt.ylim(1e-5,1e6)\n",
    "plt.legend()\n",
    "plt.xlabel(\"Wavenumber [h/Mpc]\")\n",
    "plt.ylabel(r\"P (k) [${\\rm Mpc^3} h^{-3}$]\");"
   ]
  },
  {
   "cell_type": "code",
   "execution_count": 37,
   "id": "5c6cceeb-37e6-4a1c-ac2b-99d21f6ce3b5",
   "metadata": {
    "tags": []
   },
   "outputs": [],
   "source": [
    "# !pip install pathos\n",
    "# !pip install classylss\n",
    "import classylss\n",
    "import classylss.binding as CLASS"
   ]
  },
  {
   "cell_type": "code",
   "execution_count": 65,
   "id": "fa04c872-9c47-433f-82d7-1df319bbf8b0",
   "metadata": {
    "tags": []
   },
   "outputs": [],
   "source": [
    "###### give up using manu's package due to install error (print etc..)\n",
    "# !git clone git@github.com:EmmanuelSchaan/HaloGen.git\n",
    "# cd python driver.py"
   ]
  },
  {
   "cell_type": "code",
   "execution_count": 66,
   "id": "64623d31-0488-4965-9af3-a799743e68d1",
   "metadata": {
    "tags": []
   },
   "outputs": [],
   "source": [
    "class_params = { 'output': 'dTk vTk mPk',#'lCl tCl pCl mPk',\n",
    "                  #'l_max_scalars': 2000,\n",
    "                  #'lensing': 'yes',\n",
    "                  'A_s': 2.3e-9,\n",
    "                  'n_s': 0.9624,\n",
    "                  'h': 0.6711,\n",
    "                  'N_ur': 3.046,\n",
    "                  'omega_b': 0.022068,\n",
    "                  'Omega_cdm': 0.32,\n",
    "                  'Omega_k': 0.,\n",
    "                  'P_k_max_1/Mpc': 10.,\n",
    "                  #'N_ncdm': 3,\n",
    "                  #'m_ncdm': str(self.nuMasses[0])+','+str(self.nuMasses[1])+','+str(self.nuMasses[2]),\n",
    "                  #'deg_ncdm': '1, 1, 1',\n",
    "                  'non linear': 'halofit',\n",
    "                  'z_max_pk': 100.\n",
    "                  }\n",
    "\n",
    "engine = CLASS.ClassEngine(class_params)\n",
    "bg = CLASS.Background(engine)\n",
    "sp = CLASS.Spectra(engine)"
   ]
  },
  {
   "cell_type": "code",
   "execution_count": 67,
   "id": "8ec424cb-0360-4854-9632-8f07abe2ef9f",
   "metadata": {
    "tags": []
   },
   "outputs": [],
   "source": [
    "### NFW profile infinite (no truncation in r) has an analytic form\n",
    "# _p: The reduced dimensionless fourier-transform of the halo_profile\n",
    "\n",
    "## copy Manu's code from https://github.com/EmmanuelSchaan/HaloGen/blob/master/profile.py#L189C1-L203C20\n",
    "\n",
    "rho_crit = lambda z: bg.rho_crit(z)/(1.+z)**3 * 1.e10\n",
    "rho_m = lambda z: bg.rho_m(z)/(1.+z)**3 * 1.e10\n",
    "\n",
    "def Si(x):\n",
    "    return special.sici(x)[0]\n",
    "\n",
    "def Ci(x):\n",
    "    return special.sici(x)[1]\n",
    "\n",
    "def deltaCrit(z):\n",
    "    \"\"\"ratio of virialized density to critical density at collapse (dimless).\n",
    "    from Bullock et al 2001, from Bryan & Norman 1998\n",
    "    usual 18*pi**2 if OmM=1.\n",
    "    Omega = rho_matter(z)/rhocrit(z).\n",
    "    \"\"\"\n",
    "    #f = bg.Omega0_m * (1.+z)**3 / ( bg.Omega0_m * (1.+z)**3 + (1. - bg.Omega0_m) )\n",
    "    f = bg.Omega_m(z)\n",
    "    return 18.*np.pi**2 + 82.*(f-1.) - 39.*(f-1.)**2\n",
    "\n",
    "def rVir(m, z):\n",
    "    \"\"\"Comoving virial and scale radii (Mpc/h)\n",
    "    input mass is mvir (Msun/h)\n",
    "    \"\"\"\n",
    "    Rvir = ( 3.*m / (4*np.pi*rho_crit(z)*deltaCrit(z)) )**(1./3.)  # in h^-1 Mpc\n",
    "    return Rvir\n",
    "\n",
    "def deltaC(z):\n",
    "    \"\"\"critical density for spherical collapse at redshift z\n",
    "    from Henry 2000, from Nakamura & Suto 1997\n",
    "    usual 3.*(12.*pi)**(2./3.) / 20. = 1.686 if OmM=1.\n",
    "    \"\"\"\n",
    "    x = ( 1./bg.Omega0_m - 1. )**(1./3.)\n",
    "    x /= 1.+z\n",
    "    dc = 3.*(12.*np.pi)**(2./3.) / 20.\n",
    "    dc *= 1. - 0.0123* np.log( 1. + x**3 )\n",
    "    return dc\n",
    "\n",
    "def W3d_sth(x):\n",
    "    \"\"\"Fourier transform of a 3d spherical top hat window function.\n",
    "    Use x = k*R as input,\n",
    "    where R is the tophat radius and k the wave vector.\n",
    "    Input and output are dimensionless.\n",
    "    \"\"\"\n",
    "    if x < 1.e-3:  # for small x, replace by expansion, for numerical stability\n",
    "        f = 1. - 0.1* x**2 + 0.00357143* x**4\n",
    "    else:\n",
    "        f = (3./(x**3)) * ( np.sin(x) - x * np.cos(x) )\n",
    "    return f\n",
    "\n",
    "def Sigma2(R, z, W3d,kMin=1.e-3, kMax=1.e2):\n",
    "    \"\"\"variance of delta on an isotropic 3d domain,\n",
    "    defined by W3d\n",
    "    R in h^-1 Mpc, comoving scale, output is dimless\n",
    "    \"\"\"\n",
    "    f = lambda lnk: np.exp(lnk)**3 * sp.get_pklin(np.exp(lnk), z) * W3d(np.exp(lnk)*R)**2 / (2* np.pi**2) # dimensionless\n",
    "    result = integrate.quad(f, np.log(kMin), np.log(kMax), epsabs=0., epsrel=1.e-3)[0]\n",
    "    return result\n",
    "\n",
    "def nonLinMass(z):\n",
    "    \"\"\"nonlin mass at z, in Msun/h\n",
    "    from Takada and Jain 2002/2003\n",
    "    \"\"\"\n",
    "    # bounds for looking for m_nonlinin, in (h^-1 solarM) (h^-1 Mpc)^-3\n",
    "    ma = 1.e11\n",
    "    mb = 1.e13\n",
    "    # solve for sigma(m)^2 = deltaC**2\n",
    "    R = lambda m: ( 3.* m / (4*np.pi*rho_m(z)) )**(1./3.)   # in h^-1 Mpc\n",
    "    f = lambda m: Sigma2(R(m), z, W3d_sth) - deltaC(z)**2\n",
    "    # find mass such that nu(m, z) = 1\n",
    "    result = optimize.brentq(f , ma, mb)\n",
    "    return result\n",
    "\n",
    "def rS_rhoS_c(m, z):\n",
    "    \"\"\"comoving scale radius for NFW profile\n",
    "    in Mpc/h\n",
    "    \"\"\"\n",
    "    Rvir = rVir(m, z)\n",
    "    # concentration parameter\n",
    "    #c = 10./(1.+z) * (m / m_nonlin)**(-0.2)   # from Takada & Jain 2002\n",
    "    m_nonlin = nonLinMass(z)\n",
    "    c = 9./(1.+z) * (m / m_nonlin)**(-0.13) # Takada & Jain 2003\n",
    "    # scale radius\n",
    "    RS = Rvir / c  # in Mpc/h\n",
    "    # normalize the mass within rVir to be mVir\n",
    "    rhoS = m / (4.*np.pi*RS**3)\n",
    "    rhoS /= np.log(1.+c) - c/(1.+c)  # (Msun/h) / (Mpc/h)^3\n",
    "    return RS, rhoS, c"
   ]
  },
  {
   "cell_type": "code",
   "execution_count": 109,
   "id": "943a86db-396a-4b11-a2d2-fb8cf4fb2ca5",
   "metadata": {
    "tags": []
   },
   "outputs": [
    {
     "name": "stdout",
     "output_type": "stream",
     "text": [
      "0 1.0339757656912846e-12\n",
      "1 1.0339757656912846e-12\n",
      "2 1.0339757656912846e-12\n"
     ]
    }
   ],
   "source": [
    "for iz in (0,1,2):\n",
    "    m_nonlin=nonLinMass(iz)\n",
    "    print (iz, m_nonlin)"
   ]
  },
  {
   "cell_type": "code",
   "execution_count": 103,
   "id": "639718fc-5cfa-44b7-9be7-4a32774eb413",
   "metadata": {
    "tags": []
   },
   "outputs": [],
   "source": [
    "######## previous cell is from theory calculation for c, RS, rhoS\n",
    "######## to do: modify to take measured c, Rs, rhoS\n",
    "\n",
    "def nfw(k, m, z):\n",
    "    \"\"\"Fourier transform of NFW density profile,\n",
    "    normalized such that u(k=0, m, z) = 1\n",
    "    ie rhoNFW(k,m,z) = m * nfw(k,m,z)\n",
    "    truncation radius is taken to be infinite (unphysical)\n",
    "    k in h Mpc^-1\n",
    "    m in h^-1 solarM\n",
    "    \"\"\"\n",
    "    RS, rhoS, c = rS_rhoS_c(m, z) ## JL TO DO: replace this with actual numbers from the sims\n",
    "    print (log10(m), log10(RS), log10(rhoS), c)\n",
    "    #\n",
    "    result = np.sin(k * RS) * (  Si((1+c) * k * RS) - Si(k * RS)  )\n",
    "    result += - np.sin(c * k * RS) / ((1+c) * k * RS)\n",
    "    result += np.cos(k * RS) * (  Ci((1+c) * k * RS) - Ci(k * RS)  )\n",
    "    result /= (np.log(1+c) - c/(1+c))\n",
    "    return result"
   ]
  },
  {
   "cell_type": "code",
   "execution_count": 104,
   "id": "996505f4-f082-4464-8e76-fb5043052981",
   "metadata": {
    "tags": []
   },
   "outputs": [
    {
     "name": "stdout",
     "output_type": "stream",
     "text": [
      "10.0 0.5344278045135555 11.413463245422983 0.012477536708641851\n",
      "11.0 0.997761137846889 11.281612571508866 0.009249725748324346\n",
      "12.0 1.4610944711802223 11.150237142797149 0.006856916426457631\n",
      "13.0 1.9244278045135557 11.019215588128738 0.005083102370677531\n",
      "14.0 2.387761137846889 10.888457231964804 0.0037681558449642267\n",
      "15.0 2.851094471180222 10.757894466777799 0.0027933725186898932\n"
     ]
    }
   ],
   "source": [
    "k=logspace(-2, 1, 16)\n",
    "out=[]\n",
    "m_arr=logspace(10, 15, 6)\n",
    "for im in m_arr:\n",
    "    # print (log10(im))\n",
    "    nfw_k = nfw (k, im, 0)\n",
    "    out.append(nfw_k)"
   ]
  },
  {
   "cell_type": "code",
   "execution_count": null,
   "id": "af9e32e4-2367-44ad-9591-c28572d40fcb",
   "metadata": {},
   "outputs": [],
   "source": [
    "### ^ concentration looks too small"
   ]
  },
  {
   "cell_type": "code",
   "execution_count": 105,
   "id": "cc96a549-58dc-4908-9b64-7dd88d80a067",
   "metadata": {
    "tags": []
   },
   "outputs": [
    {
     "data": {
      "image/png": "[encoded data removed]",
      "text/plain": [
       "<Figure size 432x288 with 1 Axes>"
      ]
     },
     "metadata": {
      "needs_background": "light"
     },
     "output_type": "display_data"
    }
   ],
   "source": [
    "i=0\n",
    "for nfw_k in out:\n",
    "    plt.plot(k, nfw_k, label=log10(m_arr[i]))\n",
    "    i+=1\n",
    "\n",
    "plt.xscale('log')\n",
    "plt.yscale('log')\n",
    "\n",
    "# plt.ylim(1e-5,1e6)\n",
    "plt.legend()\n",
    "plt.xlabel(\"Wavenumber [h/Mpc]\")\n",
    "plt.ylabel(r\"P (k) [${\\rm Mpc^3} h^{-3}$]\");"
   ]
  },
  {
   "cell_type": "code",
   "execution_count": null,
   "id": "59b83694-bfbb-4cbb-8b17-8035430819f5",
   "metadata": {},
   "outputs": [],
   "source": [
    "# TO DO: ## nonlinear mass correct it, get correct concentration\n",
    "    # https://github.com/halomod/halomod/blob/dev/src/halomod/concentration.py#L139C1-L166C37"
   ]
  },
  {
   "cell_type": "code",
   "execution_count": null,
   "id": "bcf23b76-8f49-4a52-bfa3-47f8eec33723",
   "metadata": {},
   "outputs": [],
   "source": []
  },
  {
   "cell_type": "code",
   "execution_count": null,
   "id": "9b47ce9a-114b-4e42-83c1-6311f356b0ae",
   "metadata": {},
   "outputs": [],
   "source": []
  },
  {
   "cell_type": "code",
   "execution_count": null,
   "id": "c1f8aa4b-3bf2-49c9-ae34-b91402987f32",
   "metadata": {},
   "outputs": [],
   "source": [
    "def nfw_flex (k, m, RS, rvir, z):\n",
    "    \n",
    "    result = np.sin(k * RS) * (  Si((1+c) * k * RS) - Si(k * RS)  )\n",
    "    result += - np.sin(c * k * RS) / ((1+c) * k * RS)\n",
    "    result += np.cos(k * RS) * (  Ci((1+c) * k * RS) - Ci(k * RS)  )\n",
    "    result /= (np.log(1+c) - c/(1+c))\n",
    "    return result"
   ]
  },
  {
   "cell_type": "code",
   "execution_count": 15,
   "id": "c12fe9d6-0afc-4a4e-ae7b-0265b09ea4a5",
   "metadata": {
    "tags": []
   },
   "outputs": [],
   "source": [
    "### most code in https://github.com/halomod/halomod/blob/dev/src/halomod/halo_model.py\n",
    "# help(hm)          # Lists many of the available quantities.\n",
    "# hm.quantities_available()\n",
    "\n",
    "# def power_1h_auto_matter_fnc(self):\n",
    "#     \"\"\"A callable returning the halo model 1-halo DM auto-power spectrum.\"\"\"\n",
    "#     p = self._do_1halo_integral(\n",
    "#         max_mmin=self.m[0],\n",
    "#         integrand=self.dndm * self.m ** 2 * self.halo_profile_ukm ** 2,\n",
    "#         mean_dens=self.mean_density0,\n",
    "#     )"
   ]
  },
  {
   "cell_type": "code",
   "execution_count": 62,
   "id": "8c8c1465-292f-4cf0-9446-63e8d3e429c4",
   "metadata": {
    "tags": []
   },
   "outputs": [],
   "source": [
    "### now try to hack dndm and halo_profile_ukm; \n",
    "### following https://halomod.readthedocs.io/en/latest/examples/getting_started.html#Defining-Your-Own-Models\n",
    "### https://halomod.readthedocs.io/en/latest/examples/component-showcase.html"
   ]
  },
  {
   "cell_type": "code",
   "execution_count": 22,
   "id": "c91c72e5-8be0-4cb1-882d-87b3f05a62aa",
   "metadata": {
    "tags": []
   },
   "outputs": [
    {
     "name": "stdout",
     "output_type": "stream",
     "text": [
      "[4.40494237e+08 4.24811888e+08 4.09646140e+08 3.94980922e+08\n",
      " 3.80800653e+08 3.67090230e+08 3.53835011e+08 3.41020805e+08\n",
      " 3.28633852e+08 3.16660816e+08]\n",
      "[1.         1.02329299 1.04712855 1.07151931 1.0964782  1.12201845\n",
      " 1.14815362 1.17489755 1.20226443 1.23026877]\n"
     ]
    }
   ],
   "source": [
    "print (hm.dndm[:10])\n",
    "print (hm.m[:10])"
   ]
  },
  {
   "cell_type": "code",
   "execution_count": 23,
   "id": "738e5bc1-e23c-41ad-9136-9d4feb62c08a",
   "metadata": {
    "tags": []
   },
   "outputs": [],
   "source": [
    "## 'SphericalOverdensity', 'SOGeneric', 'SOMean', 'SOCritical', 'SOVirial', 'FOF'\n",
    "# hm.mdef_model = 'FOF' \n",
    "hm.mdef_model = 'SOCritical'"
   ]
  },
  {
   "cell_type": "code",
   "execution_count": 24,
   "id": "3164708d-de4a-48c0-a9c9-2292326c0cc9",
   "metadata": {
    "tags": []
   },
   "outputs": [],
   "source": [
    "class ConstantConcentration(CMRelation):\n",
    "    native_mdefs = (SOCritical(),)\n",
    "    # native_mdefs = (FOF(),)\n",
    "    _defaults = {\"amplitude\": 3}\n",
    "\n",
    "    def cm(self, m, z=0):\n",
    "        return self.params['amplitude'] * np.ones_like(m)"
   ]
  },
  {
   "cell_type": "code",
   "execution_count": 61,
   "id": "ba3772d1-435f-4147-be63-292215b3f3d4",
   "metadata": {
    "tags": []
   },
   "outputs": [
    {
     "data": {
      "image/png": "[encoded data removed]",
      "text/plain": [
       "<Figure size 432x288 with 1 Axes>"
      ]
     },
     "metadata": {
      "needs_background": "light"
     },
     "output_type": "display_data"
    }
   ],
   "source": [
    "hm.halo_concentration_model = ConstantConcentration\n",
    "plt.plot(hm.m, hm.cmz_relation)\n",
    "plt.xscale('log')\n",
    "plt.yscale('log')\n",
    "\n",
    "plt.xlabel(\"Mass [$M_\\odot/h$]\")\n",
    "plt.ylabel(\"Halo Concentration\");"
   ]
  },
  {
   "cell_type": "code",
   "execution_count": 65,
   "id": "c2bf903b-d253-4e47-9093-e1ce6f835b61",
   "metadata": {
    "tags": []
   },
   "outputs": [],
   "source": [
    "### to do (Aug 8)\n",
    "### (1) customize dndm, c\n",
    "### (2) check if Pk matches the observed curve, then Pk/h; HMF, etc\n",
    "### (3) maybe it is easier to do the integration myself?? for 1halo term only\n",
    "#### https://halomod.readthedocs.io/en/latest/examples/component-showcase.html\n",
    "### https://github.com/halomod/hmf/blob/dev/src/hmf/mass_function/hmf.py"
   ]
  },
  {
   "cell_type": "code",
   "execution_count": null,
   "id": "3f24c384-9e80-4eda-9663-5b6110bd042f",
   "metadata": {},
   "outputs": [],
   "source": [
    "def _do_1halo_integral(self, max_mmin, integrand, mean_dens):\n",
    "    \"\"\"Do the 1-halo integral for some quantity, doing the turnover trick.\"\"\"\n",
    "\n",
    "    dens_min = 4 * np.pi * self.mean_density0 * self.halo_overdensity_mean / 3\n",
    "    p = np.zeros_like(self.k)\n",
    "    for i, (k, integ) in enumerate(zip(self.k, integrand)):\n",
    "        if self.force_1halo_turnover:\n",
    "            r = np.pi / k / 10  # The 10 is a complete heuristic hack.\n",
    "            mmin = max(max_mmin, dens_min * r ** 3)\n",
    "        else:\n",
    "            mmin = max_mmin\n",
    "\n",
    "        p[i] = tools.spline_integral(self.m, integ, xmin=mmin)\n",
    "\n",
    "    return p / mean_dens ** 2\n",
    "\n",
    "p = self._do_1halo_integral(\n",
    "            max_mmin=self.m[0],\n",
    "            integrand=self.dndm * self.m ** 2 * self.halo_profile_ukm ** 2,\n",
    "            mean_dens=self.mean_density0,\n",
    "        )\n",
    "\n",
    "# def m(self):\n",
    "#     return 10 ** np.arange(self.mmin, self.Mmax, self.dlog10m)\n",
    "\n",
    "    def halo_overdensity_mean(self, z=0, cosmo=Planck15):\n",
    "        return self.halo_density(z, cosmo) / self.mean_density(z, cosmo)\n",
    "    \n",
    "    def mean_density(cls, z=0, cosmo=Planck15):\n",
    "        \"\"\"Get the mean density of the Universe at redshift z, [h^2 Msun / Mpc^3].\"\"\"\n",
    "        return cosmo.Om(z) * cls.critical_density(z, cosmo)"
   ]
  }
 ],
 "metadata": {
  "kernelspec": {
   "display_name": "NERSC Python",
   "language": "python",
   "name": "python3"
  },
  "language_info": {
   "codemirror_mode": {
    "name": "ipython",
    "version": 3
   },
   "file_extension": ".py",
   "mimetype": "text/x-python",
   "name": "python",
   "nbconvert_exporter": "python",
   "pygments_lexer": "ipython3",
   "version": "3.9.7"
  }
 },
 "nbformat": 4,
 "nbformat_minor": 5
}
