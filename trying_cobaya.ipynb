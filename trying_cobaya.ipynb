{
 "cells": [
  {
   "cell_type": "code",
   "execution_count": 36,
   "id": "cfda057d",
   "metadata": {},
   "outputs": [],
   "source": [
    "import numpy as np\n",
    "import matplotlib.pyplot as plt\n",
    "from classy import Class\n",
    "from cobaya.run import run\n",
    "import os, sys\n",
    "\n",
    "%matplotlib inline\n",
    "%config InlineBackend.figure_format = 'retina'\n",
    "plt.rcParams['mathtext.fontset'], plt.rcParams['font.family'] = 'stix', 'STIXGeneral'\n",
    "plt.rcParams.update({'font.size': 15})"
   ]
  },
  {
   "cell_type": "code",
   "execution_count": 37,
   "id": "055c7864",
   "metadata": {},
   "outputs": [
    {
     "name": "stdout",
     "output_type": "stream",
     "text": [
      "Current working directory: /mnt/c/Users/darby/OneDrive/Desktop/cosmo_dep_feedback\n"
     ]
    }
   ],
   "source": [
    "home = os.getcwd()\n",
    "print('Current working directory:', home)"
   ]
  },
  {
   "cell_type": "code",
   "execution_count": 38,
   "id": "3a0a8d76",
   "metadata": {},
   "outputs": [],
   "source": [
    "## Load in IllustrisTNG simulation parameters\n",
    "lhc_TNG = np.loadtxt(home+'/latin_hypercube_params_IllustrisTNG.txt')"
   ]
  },
  {
   "cell_type": "code",
   "execution_count": 39,
   "id": "13a7d101",
   "metadata": {},
   "outputs": [],
   "source": [
    "## Load in data \n",
    "# redshift, z = 0.00\n",
    "k = np.load(home+'/Pk/IllustrisTNG_k_m_z=0.00.npy')\n",
    "Pk = np.load(home+'/Pk/IllustrisTNG_Pk_m_z=0.00.npy')\n",
    "Pk0 = Pk[0]"
   ]
  },
  {
   "cell_type": "code",
   "execution_count": 44,
   "id": "503b3ffe",
   "metadata": {},
   "outputs": [
    {
     "data": {
      "text/plain": [
       "((39,), (39,))"
      ]
     },
     "execution_count": 44,
     "metadata": {},
     "output_type": "execute_result"
    }
   ],
   "source": [
    "# Paco said k values less than 30 should be good so I will cut out those values.\n",
    "## Jia goes up to k_max=10, so I will use that here.\n",
    "index = np.where(k>10)[0]\n",
    "ks0 = k[0:index[0]]\n",
    "Pks0 = Pk0[0:index[0]]\n",
    "\n",
    "ks0.shape, Pks0.shape"
   ]
  },
  {
   "cell_type": "code",
   "execution_count": 41,
   "id": "8a36b867",
   "metadata": {},
   "outputs": [],
   "source": [
    "Pks0_err = 0.10*Pks0"
   ]
  },
  {
   "cell_type": "code",
   "execution_count": 113,
   "id": "26785012",
   "metadata": {},
   "outputs": [],
   "source": [
    "cosmo_params = {\n",
    "    # Fixed\n",
    "    'h': 0.6711, \n",
    "    'n_s': 0.9624, \n",
    "    'Omega_b': 0.049,\n",
    "    'Omega_k': 0,\n",
    "    'P_k_max_h/Mpc': 10,\n",
    "    'lensing': 'no',\n",
    "    'z_pk': 0, \n",
    "    'output': 'mPk',\n",
    "    'non_linear':'hmcode'}\n",
    "\n",
    "\n",
    "def classy_model(eta, c):\n",
    "    model = Class()\n",
    "    model.set({'eta_0': eta, \n",
    "               'c_min':c, \n",
    "               'h': 0.6711, \n",
    "               'n_s': 0.9624, \n",
    "               'Omega_b': 0.049,\n",
    "               'Omega_k': 0,\n",
    "               'P_k_max_h/Mpc': 10,\n",
    "               'lensing': 'no',\n",
    "               'z_pk': 0, \n",
    "               'output': 'mPk',\n",
    "               'non_linear':'hmcode'})\n",
    "    model.compute()\n",
    "    \n",
    "    k_model = np.linspace(min(ks0), 10, len(ks0))\n",
    "    Pk_model = [] \n",
    "    h = model.h()\n",
    "    for k in k_model:\n",
    "        Pk = model.pk(k*h, 0)*h**3\n",
    "        Pk_model.append(Pk) \n",
    "    Pk_model = np.array(Pk_model)\n",
    "    sigma2 = Pks0_err**2\n",
    "    return -0.5 * np.sum((Pks0 - Pk_model)**2 / sigma2 + np.log(sigma2))\n",
    "\n",
    "\n",
    "info = {\n",
    "    'likelihood': {'external': classy_model},\n",
    "    'params': dict([\n",
    "        ('eta', {\n",
    "            'prior': {'min': -5, 'max': 5},\n",
    "            'ref': 0.76,\n",
    "            'latex': 'eta'}),\n",
    "        ('c', {\n",
    "            'prior': {'min': -5, 'max': 35},\n",
    "            'ref': 2.32,\n",
    "            'latex': 'c'})]),\n",
    "#     'theory': {'classy': {'extra_args': cosmo_params}},\n",
    "    'sampler': {\n",
    "        'mcmc': {'max_tries':100}}\n",
    "}\n"
   ]
  },
  {
   "cell_type": "code",
   "execution_count": 114,
   "id": "26e267be",
   "metadata": {
    "scrolled": false
   },
   "outputs": [
    {
     "name": "stdout",
     "output_type": "stream",
     "text": [
      "[external] Initialized external likelihood.\n",
      "[mcmc] Getting initial point... (this may take a few seconds)\n",
      "[model] Measuring speeds... (this may take a few seconds)\n",
      "[model] Setting measured speeds (per sec): {external: 1.23}\n",
      "[prior] *WARNING* Reference pdf not defined or improper for some parameters. Using prior's sigma instead for them.\n",
      "[mcmc] Covariance matrix not present. We will start learning the covariance of the proposal earlier: R-1 = 30 (would be 2 if all params loaded).\n",
      "[mcmc] Initial point: eta:0.76, c:2.32\n",
      "[mcmc] Sampling!\n",
      "[mcmc] Progress @ 2022-08-18 22:01:45 : 1 steps taken, and 0 accepted.\n",
      "[mcmc] Progress @ 2022-08-18 22:02:45 : 110 steps taken, and 4 accepted.\n",
      "[mcmc] Progress @ 2022-08-18 22:03:46 : 222 steps taken, and 7 accepted.\n",
      "[mcmc] Progress @ 2022-08-18 22:04:46 : 337 steps taken, and 9 accepted.\n",
      "[mcmc] *ERROR* The chain has been stuck for 100 attempts, stopping sampling. Make sure the reference point is semsible and initial covmat.For parameters not included in an initial covmat, the 'proposal' width set for each parameter should be of order of the expected conditional posterior width, which may be much smaller than the marginalized posterior width - choose a smaller rather than larger value if in doubt. You can also decrease the 'proposal_scale' option for mcmc, though small values will sample less efficiently once things converge.\n",
      "Alternatively (though not advisable) make 'max_tries: np.inf' (or 'max_tries: .inf' in yaml).\n",
      "Current point: eta:1.768967, c:16.34555\n"
     ]
    },
    {
     "ename": "LoggedError",
     "evalue": "The chain has been stuck for 100 attempts, stopping sampling. Make sure the reference point is semsible and initial covmat.For parameters not included in an initial covmat, the 'proposal' width set for each parameter should be of order of the expected conditional posterior width, which may be much smaller than the marginalized posterior width - choose a smaller rather than larger value if in doubt. You can also decrease the 'proposal_scale' option for mcmc, though small values will sample less efficiently once things converge.\nAlternatively (though not advisable) make 'max_tries: np.inf' (or 'max_tries: .inf' in yaml).\nCurrent point: eta:1.768967, c:16.34555",
     "output_type": "error",
     "traceback": [
      "\u001b[0;31m---------------------------------------------------------------------------\u001b[0m",
      "\u001b[0;31mLoggedError\u001b[0m                               Traceback (most recent call last)",
      "Input \u001b[0;32mIn [114]\u001b[0m, in \u001b[0;36m<cell line: 1>\u001b[0;34m()\u001b[0m\n\u001b[0;32m----> 1\u001b[0m updated_info, sampler \u001b[38;5;241m=\u001b[39m \u001b[43mrun\u001b[49m\u001b[43m(\u001b[49m\u001b[43minfo\u001b[49m\u001b[43m)\u001b[49m\n",
      "File \u001b[0;32m~/.local/lib/python3.9/site-packages/cobaya/run.py:168\u001b[0m, in \u001b[0;36mrun\u001b[0;34m(info_or_yaml_or_file, packages_path, output, debug, stop_at_error, resume, force, minimize, no_mpi, test, override)\u001b[0m\n\u001b[1;32m    166\u001b[0m                 \u001b[38;5;28;01mreturn\u001b[39;00m InfoSamplerTuple(updated_info, sampler)\n\u001b[1;32m    167\u001b[0m             \u001b[38;5;66;03m# Run the sampler\u001b[39;00m\n\u001b[0;32m--> 168\u001b[0m             \u001b[43msampler\u001b[49m\u001b[38;5;241;43m.\u001b[39;49m\u001b[43mrun\u001b[49m\u001b[43m(\u001b[49m\u001b[43m)\u001b[49m\n\u001b[1;32m    170\u001b[0m \u001b[38;5;28;01mreturn\u001b[39;00m InfoSamplerTuple(updated_info, sampler)\n",
      "File \u001b[0;32m~/.local/lib/python3.9/site-packages/cobaya/samplers/mcmc/mcmc.py:340\u001b[0m, in \u001b[0;36mMCMC.run\u001b[0;34m(self)\u001b[0m\n\u001b[1;32m    338\u001b[0m \u001b[38;5;28;01mwith\u001b[39;00m mpi\u001b[38;5;241m.\u001b[39mProcessState(\u001b[38;5;28mself\u001b[39m) \u001b[38;5;28;01mas\u001b[39;00m state:\n\u001b[1;32m    339\u001b[0m     \u001b[38;5;28;01mwhile\u001b[39;00m last_n \u001b[38;5;241m<\u001b[39m \u001b[38;5;28mself\u001b[39m\u001b[38;5;241m.\u001b[39mmax_samples \u001b[38;5;129;01mand\u001b[39;00m \u001b[38;5;129;01mnot\u001b[39;00m \u001b[38;5;28mself\u001b[39m\u001b[38;5;241m.\u001b[39mconverged:\n\u001b[0;32m--> 340\u001b[0m         \u001b[38;5;28;43mself\u001b[39;49m\u001b[38;5;241;43m.\u001b[39;49m\u001b[43mget_new_sample\u001b[49m\u001b[43m(\u001b[49m\u001b[43m)\u001b[49m\n\u001b[1;32m    341\u001b[0m         \u001b[38;5;28mself\u001b[39m\u001b[38;5;241m.\u001b[39mn_steps_raw \u001b[38;5;241m+\u001b[39m\u001b[38;5;241m=\u001b[39m \u001b[38;5;241m1\u001b[39m\n\u001b[1;32m    342\u001b[0m         \u001b[38;5;28;01mif\u001b[39;00m \u001b[38;5;28mself\u001b[39m\u001b[38;5;241m.\u001b[39moutput_every\u001b[38;5;241m.\u001b[39munit:\n\u001b[1;32m    343\u001b[0m             \u001b[38;5;66;03m# if output_every in sec, print some info\u001b[39;00m\n\u001b[1;32m    344\u001b[0m             \u001b[38;5;66;03m# and dump at fixed time intervals\u001b[39;00m\n",
      "File \u001b[0;32m~/.local/lib/python3.9/site-packages/cobaya/samplers/mcmc/mcmc.py:417\u001b[0m, in \u001b[0;36mMCMC.get_new_sample_metropolis\u001b[0;34m(self)\u001b[0m\n\u001b[1;32m    415\u001b[0m trial_results \u001b[38;5;241m=\u001b[39m \u001b[38;5;28mself\u001b[39m\u001b[38;5;241m.\u001b[39mmodel\u001b[38;5;241m.\u001b[39mlogposterior(trial)\n\u001b[1;32m    416\u001b[0m accept \u001b[38;5;241m=\u001b[39m \u001b[38;5;28mself\u001b[39m\u001b[38;5;241m.\u001b[39mmetropolis_accept(trial_results\u001b[38;5;241m.\u001b[39mlogpost, \u001b[38;5;28mself\u001b[39m\u001b[38;5;241m.\u001b[39mcurrent_point\u001b[38;5;241m.\u001b[39mlogpost)\n\u001b[0;32m--> 417\u001b[0m \u001b[38;5;28;43mself\u001b[39;49m\u001b[38;5;241;43m.\u001b[39;49m\u001b[43mprocess_accept_or_reject\u001b[49m\u001b[43m(\u001b[49m\u001b[43maccept\u001b[49m\u001b[43m,\u001b[49m\u001b[43m \u001b[49m\u001b[43mtrial\u001b[49m\u001b[43m,\u001b[49m\u001b[43m \u001b[49m\u001b[43mtrial_results\u001b[49m\u001b[43m)\u001b[49m\n\u001b[1;32m    418\u001b[0m \u001b[38;5;28;01mreturn\u001b[39;00m accept\n",
      "File \u001b[0;32m~/.local/lib/python3.9/site-packages/cobaya/samplers/mcmc/mcmc.py:555\u001b[0m, in \u001b[0;36mMCMC.process_accept_or_reject\u001b[0;34m(self, accept_state, trial, trial_results)\u001b[0m\n\u001b[1;32m    553\u001b[0m \u001b[38;5;28;01mif\u001b[39;00m \u001b[38;5;28mself\u001b[39m\u001b[38;5;241m.\u001b[39mcurrent_point\u001b[38;5;241m.\u001b[39mweight \u001b[38;5;241m>\u001b[39m max_tries_now:\n\u001b[1;32m    554\u001b[0m     \u001b[38;5;28mself\u001b[39m\u001b[38;5;241m.\u001b[39mcollection\u001b[38;5;241m.\u001b[39mout_update()\n\u001b[0;32m--> 555\u001b[0m     \u001b[38;5;28;01mraise\u001b[39;00m LoggedError(\n\u001b[1;32m    556\u001b[0m         \u001b[38;5;28mself\u001b[39m\u001b[38;5;241m.\u001b[39mlog,\n\u001b[1;32m    557\u001b[0m         \u001b[38;5;124m\"\u001b[39m\u001b[38;5;124mThe chain has been stuck for \u001b[39m\u001b[38;5;132;01m%d\u001b[39;00m\u001b[38;5;124m attempts, stopping sampling. \u001b[39m\u001b[38;5;124m\"\u001b[39m\n\u001b[1;32m    558\u001b[0m         \u001b[38;5;124m\"\u001b[39m\u001b[38;5;124mMake sure the reference point is semsible and initial covmat.\u001b[39m\u001b[38;5;124m\"\u001b[39m\n\u001b[1;32m    559\u001b[0m         \u001b[38;5;124m\"\u001b[39m\u001b[38;5;124mFor parameters not included in an initial covmat, the \u001b[39m\u001b[38;5;124m'\u001b[39m\u001b[38;5;124mproposal\u001b[39m\u001b[38;5;124m'\u001b[39m\u001b[38;5;124m \u001b[39m\u001b[38;5;124m\"\u001b[39m\n\u001b[1;32m    560\u001b[0m         \u001b[38;5;124m\"\u001b[39m\u001b[38;5;124mwidth set for each parameter should be of order of the expected \u001b[39m\u001b[38;5;124m\"\u001b[39m\n\u001b[1;32m    561\u001b[0m         \u001b[38;5;124m\"\u001b[39m\u001b[38;5;124mconditional posterior width, which may be much smaller than the \u001b[39m\u001b[38;5;124m\"\u001b[39m\n\u001b[1;32m    562\u001b[0m         \u001b[38;5;124m\"\u001b[39m\u001b[38;5;124mmarginalized posterior width - choose a smaller \u001b[39m\u001b[38;5;124m\"\u001b[39m\n\u001b[1;32m    563\u001b[0m         \u001b[38;5;124m\"\u001b[39m\u001b[38;5;124mrather than larger value if in doubt. You can also decrease the \u001b[39m\u001b[38;5;124m\"\u001b[39m\n\u001b[1;32m    564\u001b[0m         \u001b[38;5;124m\"\u001b[39m\u001b[38;5;124m'\u001b[39m\u001b[38;5;124mproposal_scale\u001b[39m\u001b[38;5;124m'\u001b[39m\u001b[38;5;124m option for mcmc, though small values will sample \u001b[39m\u001b[38;5;124m\"\u001b[39m\n\u001b[1;32m    565\u001b[0m         \u001b[38;5;124m\"\u001b[39m\u001b[38;5;124mless efficiently once things converge.\u001b[39m\u001b[38;5;130;01m\\n\u001b[39;00m\u001b[38;5;124m\"\u001b[39m\n\u001b[1;32m    566\u001b[0m         \u001b[38;5;124m\"\u001b[39m\u001b[38;5;124mAlternatively (though not advisable) make \u001b[39m\u001b[38;5;124m'\u001b[39m\u001b[38;5;124mmax_tries: np.inf\u001b[39m\u001b[38;5;124m'\u001b[39m\u001b[38;5;124m \u001b[39m\u001b[38;5;124m\"\u001b[39m\n\u001b[1;32m    567\u001b[0m         \u001b[38;5;124m\"\u001b[39m\u001b[38;5;124m(or \u001b[39m\u001b[38;5;124m'\u001b[39m\u001b[38;5;124mmax_tries: .inf\u001b[39m\u001b[38;5;124m'\u001b[39m\u001b[38;5;124m in yaml).\u001b[39m\u001b[38;5;130;01m\\n\u001b[39;00m\u001b[38;5;124m\"\u001b[39m\n\u001b[1;32m    568\u001b[0m         \u001b[38;5;124m\"\u001b[39m\u001b[38;5;124mCurrent point: \u001b[39m\u001b[38;5;132;01m%s\u001b[39;00m\u001b[38;5;124m\"\u001b[39m, max_tries_now, \u001b[38;5;28mself\u001b[39m\u001b[38;5;241m.\u001b[39mcurrent_point)\n",
      "\u001b[0;31mLoggedError\u001b[0m: The chain has been stuck for 100 attempts, stopping sampling. Make sure the reference point is semsible and initial covmat.For parameters not included in an initial covmat, the 'proposal' width set for each parameter should be of order of the expected conditional posterior width, which may be much smaller than the marginalized posterior width - choose a smaller rather than larger value if in doubt. You can also decrease the 'proposal_scale' option for mcmc, though small values will sample less efficiently once things converge.\nAlternatively (though not advisable) make 'max_tries: np.inf' (or 'max_tries: .inf' in yaml).\nCurrent point: eta:1.768967, c:16.34555"
     ]
    }
   ],
   "source": [
    "updated_info, sampler = run(info)"
   ]
  },
  {
   "cell_type": "code",
   "execution_count": 77,
   "id": "01e7eee1",
   "metadata": {},
   "outputs": [],
   "source": [
    "updated_info, sampler = run?"
   ]
  },
  {
   "cell_type": "code",
   "execution_count": 21,
   "id": "16894ce6",
   "metadata": {},
   "outputs": [],
   "source": [
    "# info = {\n",
    "#     \"likelihood\": {\n",
    "#         \"gaussian_mixture\": {\n",
    "#             \"means\": [0.2, 0],\n",
    "#             \"covs\": [[0.1, 0.05],\n",
    "#                      [0.05, 0.2]],\n",
    "#             \"derived\": True}},\n",
    "#     \"params\": dict([\n",
    "#         (\"a\", {\n",
    "#             \"prior\": {\"min\": -0.5, \"max\": 3},\n",
    "#             \"latex\": r\"\\alpha\"}),\n",
    "#         (\"b\", {\n",
    "#             \"prior\": {\"dist\": \"norm\", \"loc\": 0, \"scale\": 1},\n",
    "#             \"ref\": 0,\n",
    "#             \"proposal\": 0.5,\n",
    "#             \"latex\": r\"\\beta\"}),\n",
    "#         (\"derived_a\", {\n",
    "#             \"latex\": r\"\\alpha^\\prime\"}),\n",
    "#         (\"derived_b\", {\n",
    "#             \"latex\": r\"\\beta^\\prime\"})]),\n",
    "#     \"sampler\": {\n",
    "#         \"mcmc\": None}}"
   ]
  },
  {
   "cell_type": "code",
   "execution_count": null,
   "id": "157cdb92",
   "metadata": {},
   "outputs": [],
   "source": []
  }
 ],
 "metadata": {
  "kernelspec": {
   "display_name": "Python 3 (ipykernel)",
   "language": "python",
   "name": "python3"
  },
  "language_info": {
   "codemirror_mode": {
    "name": "ipython",
    "version": 3
   },
   "file_extension": ".py",
   "mimetype": "text/x-python",
   "name": "python",
   "nbconvert_exporter": "python",
   "pygments_lexer": "ipython3",
   "version": "3.9.13"
  }
 },
 "nbformat": 4,
 "nbformat_minor": 5
}
