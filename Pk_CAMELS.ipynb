{
 "cells": [
  {
   "cell_type": "code",
   "execution_count": 1,
   "id": "59cf4990-16f5-4c03-a3f3-0aa301abc657",
   "metadata": {},
   "outputs": [],
   "source": [
    "import numpy as np\n",
    "from scipy import *\n",
    "from pylab import *\n",
    "import os\n",
    "\n",
    "%matplotlib inline"
   ]
  },
  {
   "cell_type": "code",
   "execution_count": 2,
   "id": "a098c0ab-1281-47de-944a-8aa10f675768",
   "metadata": {},
   "outputs": [],
   "source": [
    "folder_Pk = '/global/cscratch1/sd/jialiu/CAMELS/Pk/'"
   ]
  },
  {
   "cell_type": "code",
   "execution_count": null,
   "id": "5e611441-87d3-4894-8394-3840e00be342",
   "metadata": {},
   "outputs": [],
   "source": []
  }
 ],
 "metadata": {
  "kernelspec": {
   "display_name": "anaconda",
   "language": "python",
   "name": "anaconda"
  },
  "language_info": {
   "codemirror_mode": {
    "name": "ipython",
    "version": 3
   },
   "file_extension": ".py",
   "mimetype": "text/x-python",
   "name": "python",
   "nbconvert_exporter": "python",
   "pygments_lexer": "ipython3",
   "version": "3.7.4"
  }
 },
 "nbformat": 4,
 "nbformat_minor": 5
}
